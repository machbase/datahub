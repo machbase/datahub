{
 "cells": [
  {
   "cell_type": "markdown",
   "metadata": {},
   "source": [
    "# Driving Behavior Classification"
   ]
  },
  {
   "cell_type": "markdown",
   "metadata": {},
   "source": [
    "## Import Necessary Libraries"
   ]
  },
  {
   "cell_type": "code",
   "execution_count": 1,
   "metadata": {},
   "outputs": [
    {
     "name": "stdout",
     "output_type": "stream",
     "text": [
      "cuda\n"
     ]
    }
   ],
   "source": [
    "## Import necessary libraries\n",
    "import pandas as pd\n",
    "import numpy as np\n",
    "import random \n",
    "import pickle\n",
    "from urllib.parse import quote\n",
    "from sklearn.preprocessing import MinMaxScaler\n",
    "\n",
    "## Import necessary API\n",
    "import sys\n",
    "sys.path.append('../../../../')\n",
    "from api.v2.util.data_load import data_load\n",
    "from api.v2.Preprocessing.Make_Time_Feature import TimeFeatureGenerator\n",
    "from api.v2.model.TCN import TCN\n",
    "\n",
    "## Import libraries for the model\n",
    "import torch\n",
    "import torch.nn as nn\n",
    "from torch.utils.data import Dataset, DataLoader\n",
    "import torch.optim as optim\n",
    "from tqdm.notebook import trange\n",
    "from sklearn.metrics import f1_score, classification_report\n",
    "\n",
    "## Set path for saving model training results \n",
    "import os\n",
    "os.makedirs('./result', exist_ok=True)\n",
    "\n",
    "## Set Cuda for computation\n",
    "device = torch.device(\"cuda\" if torch.cuda.is_available() else \"cpu\")\n",
    "print(device)\n",
    "\n",
    "## Set random seed\n",
    "def set_seed(seed_val):\n",
    "    random.seed(seed_val)\n",
    "    np.random.seed(seed_val)\n",
    "    torch.manual_seed(seed_val)\n",
    "    torch.cuda.manual_seed_all(seed_val)\n",
    "\n",
    "# Set seed\n",
    "seed_val = 77\n",
    "set_seed(seed_val)"
   ]
  },
  {
   "cell_type": "markdown",
   "metadata": {},
   "source": [
    "## Base Parameter Setting\n",
    "* Set parameters based on the information identified during EDA (Exploratory Data Analysis)."
   ]
  },
  {
   "cell_type": "code",
   "execution_count": 2,
   "metadata": {},
   "outputs": [],
   "source": [
    "# Set Driving Behavior Data Base Parameter\n",
    "\n",
    "# Set MachBase Neo URL address\n",
    "URL = 'http://127.0.0.1:5654'\n",
    "# Set Tag Table Name\n",
    "table = 'driving_behavior'\n",
    "# Select Tag Name -> Can Check Tag Names Using command 'show_column(URL, table)'\n",
    "tags = ['AccX', 'AccY', 'AccZ', 'Class', 'GyroX', 'GyroY', 'GyroZ']\n",
    "# Wrap each item in the list with single quotes and separate with commas\n",
    "tags_ = \",\".join(f\"'{tag}'\" for tag in tags)\n",
    "# Set Tag Name\n",
    "name = quote(tags_, safe=\":/\")\n",
    "# Set resample Option -> D(day), H(hour), T(minute), S(second)\n",
    "resample_freq = None\n",
    "# Set Start time\n",
    "start_time = '2025-07-18 00:00:00'\n",
    "# Set End time \n",
    "end_time = '2025-07-18 01:52:07'\n",
    "# Set TimeFormat - > 'default' or quote('2006-01-02 15:04:05.000000')(Divided down to the nanosecond)\n",
    "timeformat = 'default'"
   ]
  },
  {
   "cell_type": "markdown",
   "metadata": {},
   "source": [
    "## Driving Behavior Data Load"
   ]
  },
  {
   "cell_type": "code",
   "execution_count": 3,
   "metadata": {},
   "outputs": [],
   "source": [
    "# Driving Behavior Data Load\n",
    "df = data_load(URL, table, name, start_time, end_time, timeformat, resample_freq)\n",
    "\n",
    "# Rename the 'Class' column to 'label'\n",
    "df.rename(columns={'Class': 'label'}, inplace=True)\n",
    "\n",
    "# Move the 'label' column to the last position\n",
    "df = df.reindex(columns=[col for col in df.columns if col != 'label'] + ['label'])\n",
    "\n",
    "# Convert the 'label' column to integer type\n",
    "df['label'] = df['label'].astype(int)"
   ]
  },
  {
   "cell_type": "code",
   "execution_count": 4,
   "metadata": {},
   "outputs": [
    {
     "data": {
      "text/html": [
       "<div>\n",
       "<style scoped>\n",
       "    .dataframe tbody tr th:only-of-type {\n",
       "        vertical-align: middle;\n",
       "    }\n",
       "\n",
       "    .dataframe tbody tr th {\n",
       "        vertical-align: top;\n",
       "    }\n",
       "\n",
       "    .dataframe thead th {\n",
       "        text-align: right;\n",
       "    }\n",
       "</style>\n",
       "<table border=\"1\" class=\"dataframe\">\n",
       "  <thead>\n",
       "    <tr style=\"text-align: right;\">\n",
       "      <th>NAME</th>\n",
       "      <th>AccX</th>\n",
       "      <th>AccY</th>\n",
       "      <th>AccZ</th>\n",
       "      <th>GyroX</th>\n",
       "      <th>GyroY</th>\n",
       "      <th>GyroZ</th>\n",
       "      <th>label</th>\n",
       "    </tr>\n",
       "    <tr>\n",
       "      <th>TIME</th>\n",
       "      <th></th>\n",
       "      <th></th>\n",
       "      <th></th>\n",
       "      <th></th>\n",
       "      <th></th>\n",
       "      <th></th>\n",
       "      <th></th>\n",
       "    </tr>\n",
       "  </thead>\n",
       "  <tbody>\n",
       "    <tr>\n",
       "      <th>2025-07-18 00:00:00</th>\n",
       "      <td>0.000000</td>\n",
       "      <td>0.000000</td>\n",
       "      <td>0.000000</td>\n",
       "      <td>0.059407</td>\n",
       "      <td>-0.174707</td>\n",
       "      <td>0.101938</td>\n",
       "      <td>0</td>\n",
       "    </tr>\n",
       "    <tr>\n",
       "      <th>2025-07-18 00:00:01</th>\n",
       "      <td>-1.624864</td>\n",
       "      <td>-1.082492</td>\n",
       "      <td>-0.204183</td>\n",
       "      <td>-0.028558</td>\n",
       "      <td>0.051313</td>\n",
       "      <td>0.135536</td>\n",
       "      <td>0</td>\n",
       "    </tr>\n",
       "    <tr>\n",
       "      <th>2025-07-18 00:00:02</th>\n",
       "      <td>-0.594660</td>\n",
       "      <td>-0.122410</td>\n",
       "      <td>0.220502</td>\n",
       "      <td>-0.019395</td>\n",
       "      <td>-0.029322</td>\n",
       "      <td>0.087888</td>\n",
       "      <td>0</td>\n",
       "    </tr>\n",
       "    <tr>\n",
       "      <th>2025-07-18 00:00:03</th>\n",
       "      <td>0.738478</td>\n",
       "      <td>-0.228456</td>\n",
       "      <td>0.667732</td>\n",
       "      <td>0.069791</td>\n",
       "      <td>-0.029932</td>\n",
       "      <td>0.054902</td>\n",
       "      <td>0</td>\n",
       "    </tr>\n",
       "    <tr>\n",
       "      <th>2025-07-18 00:00:04</th>\n",
       "      <td>0.101741</td>\n",
       "      <td>0.777568</td>\n",
       "      <td>-0.066730</td>\n",
       "      <td>0.030696</td>\n",
       "      <td>-0.003665</td>\n",
       "      <td>0.054902</td>\n",
       "      <td>0</td>\n",
       "    </tr>\n",
       "    <tr>\n",
       "      <th>...</th>\n",
       "      <td>...</td>\n",
       "      <td>...</td>\n",
       "      <td>...</td>\n",
       "      <td>...</td>\n",
       "      <td>...</td>\n",
       "      <td>...</td>\n",
       "      <td>...</td>\n",
       "    </tr>\n",
       "    <tr>\n",
       "      <th>2025-07-18 01:52:03</th>\n",
       "      <td>-0.713858</td>\n",
       "      <td>-0.652975</td>\n",
       "      <td>-0.164015</td>\n",
       "      <td>-0.147829</td>\n",
       "      <td>-1.309466</td>\n",
       "      <td>0.517250</td>\n",
       "      <td>1</td>\n",
       "    </tr>\n",
       "    <tr>\n",
       "      <th>2025-07-18 01:52:04</th>\n",
       "      <td>1.514261</td>\n",
       "      <td>0.330070</td>\n",
       "      <td>1.020714</td>\n",
       "      <td>1.321302</td>\n",
       "      <td>1.707598</td>\n",
       "      <td>-0.674548</td>\n",
       "      <td>1</td>\n",
       "    </tr>\n",
       "    <tr>\n",
       "      <th>2025-07-18 01:52:05</th>\n",
       "      <td>1.280216</td>\n",
       "      <td>-1.735172</td>\n",
       "      <td>-2.332695</td>\n",
       "      <td>0.583376</td>\n",
       "      <td>0.690507</td>\n",
       "      <td>-0.468075</td>\n",
       "      <td>1</td>\n",
       "    </tr>\n",
       "    <tr>\n",
       "      <th>2025-07-18 01:52:06</th>\n",
       "      <td>0.912313</td>\n",
       "      <td>0.583314</td>\n",
       "      <td>-0.965622</td>\n",
       "      <td>0.235794</td>\n",
       "      <td>0.512745</td>\n",
       "      <td>0.406073</td>\n",
       "      <td>1</td>\n",
       "    </tr>\n",
       "    <tr>\n",
       "      <th>2025-07-18 01:52:07</th>\n",
       "      <td>1.462172</td>\n",
       "      <td>0.190287</td>\n",
       "      <td>0.019377</td>\n",
       "      <td>-0.254731</td>\n",
       "      <td>-0.279547</td>\n",
       "      <td>0.076205</td>\n",
       "      <td>1</td>\n",
       "    </tr>\n",
       "  </tbody>\n",
       "</table>\n",
       "<p>6728 rows × 7 columns</p>\n",
       "</div>"
      ],
      "text/plain": [
       "NAME                     AccX      AccY      AccZ     GyroX     GyroY  \\\n",
       "TIME                                                                    \n",
       "2025-07-18 00:00:00  0.000000  0.000000  0.000000  0.059407 -0.174707   \n",
       "2025-07-18 00:00:01 -1.624864 -1.082492 -0.204183 -0.028558  0.051313   \n",
       "2025-07-18 00:00:02 -0.594660 -0.122410  0.220502 -0.019395 -0.029322   \n",
       "2025-07-18 00:00:03  0.738478 -0.228456  0.667732  0.069791 -0.029932   \n",
       "2025-07-18 00:00:04  0.101741  0.777568 -0.066730  0.030696 -0.003665   \n",
       "...                       ...       ...       ...       ...       ...   \n",
       "2025-07-18 01:52:03 -0.713858 -0.652975 -0.164015 -0.147829 -1.309466   \n",
       "2025-07-18 01:52:04  1.514261  0.330070  1.020714  1.321302  1.707598   \n",
       "2025-07-18 01:52:05  1.280216 -1.735172 -2.332695  0.583376  0.690507   \n",
       "2025-07-18 01:52:06  0.912313  0.583314 -0.965622  0.235794  0.512745   \n",
       "2025-07-18 01:52:07  1.462172  0.190287  0.019377 -0.254731 -0.279547   \n",
       "\n",
       "NAME                    GyroZ  label  \n",
       "TIME                                  \n",
       "2025-07-18 00:00:00  0.101938      0  \n",
       "2025-07-18 00:00:01  0.135536      0  \n",
       "2025-07-18 00:00:02  0.087888      0  \n",
       "2025-07-18 00:00:03  0.054902      0  \n",
       "2025-07-18 00:00:04  0.054902      0  \n",
       "...                       ...    ...  \n",
       "2025-07-18 01:52:03  0.517250      1  \n",
       "2025-07-18 01:52:04 -0.674548      1  \n",
       "2025-07-18 01:52:05 -0.468075      1  \n",
       "2025-07-18 01:52:06  0.406073      1  \n",
       "2025-07-18 01:52:07  0.076205      1  \n",
       "\n",
       "[6728 rows x 7 columns]"
      ]
     },
     "execution_count": 4,
     "metadata": {},
     "output_type": "execute_result"
    }
   ],
   "source": [
    "df"
   ]
  },
  {
   "cell_type": "code",
   "execution_count": 5,
   "metadata": {},
   "outputs": [],
   "source": [
    "# Split the data into train, test sets\n",
    "train = df.iloc[:3728]\n",
    "test = df.iloc[3728:]"
   ]
  },
  {
   "cell_type": "markdown",
   "metadata": {},
   "source": [
    "## Data Preprocessing\n",
    "* 1 Min-Max Scaling\n",
    "* 2 Make Time Feature"
   ]
  },
  {
   "cell_type": "code",
   "execution_count": 6,
   "metadata": {},
   "outputs": [],
   "source": [
    "# Set up scalers\n",
    "scaler = MinMaxScaler()\n",
    "\n",
    "# Apply scalers\n",
    "train_ = scaler.fit_transform(train.iloc[:, :-1].values)\n",
    "test_ = scaler.transform(test.iloc[:, :-1].values)\n",
    "\n",
    "# Set each DataFrames\n",
    "train_scaled = pd.DataFrame(train_, index=train.index)  \n",
    "train_scaled['label'] = train['label'].values\n",
    "\n",
    "test_scaled = pd.DataFrame(test_, index=test.index)\n",
    "test_scaled['label'] = test['label'].values\n",
    "\n",
    "# Save Scaler\n",
    "with open('./result/scaler.pkl', 'wb') as file:\n",
    "    pickle.dump(scaler, file)"
   ]
  },
  {
   "cell_type": "code",
   "execution_count": 7,
   "metadata": {},
   "outputs": [],
   "source": [
    "# Set TimeFeatureGenerator\n",
    "feature_generator = TimeFeatureGenerator()\n",
    " \n",
    "# Make Time Featrue\n",
    "train_time_feature = feature_generator.generate_features(train.index)\n",
    "test_time_feature = feature_generator.generate_features(test.index)\n",
    "\n",
    "# concat origin dataset\n",
    "train_scaled = pd.concat([train_scaled, train_time_feature], axis=1)\n",
    "test_scaled = pd.concat([test_scaled, test_time_feature], axis=1)"
   ]
  },
  {
   "cell_type": "markdown",
   "metadata": {},
   "source": [
    "## Dataset & Loader Setup"
   ]
  },
  {
   "cell_type": "code",
   "execution_count": 8,
   "metadata": {},
   "outputs": [],
   "source": [
    "class Driving_Dataset(Dataset):\n",
    "    def __init__(self, data, target_column, seq_length=10):\n",
    "        self.data = data\n",
    "        self.target_column = target_column\n",
    "        self.seq_length = seq_length\n",
    "\n",
    "    def __len__(self):\n",
    "        return len(self.data) - self.seq_length + 1\n",
    "\n",
    "    def __getitem__(self, idx):\n",
    "        # Input data: Values of multiple variables over seq_length - 1\n",
    "        x = self.data[idx:idx + self.seq_length].drop(columns=[self.target_column]).values.reshape(-1, self.seq_length)  # Excluding target column\n",
    "        # Target data: Target variable value on the seq_length \n",
    "        y = self.data[self.target_column].iloc[idx + self.seq_length - 1]\n",
    "        return x, y"
   ]
  },
  {
   "cell_type": "code",
   "execution_count": 9,
   "metadata": {},
   "outputs": [],
   "source": [
    "# Set up datasets  \n",
    "train_ = Driving_Dataset(train_scaled, target_column='label', seq_length=2)\n",
    "test_ = Driving_Dataset(test_scaled, target_column='label', seq_length=2)\n",
    "\n",
    "# Set up data loaders\n",
    "train_dataloader = DataLoader(train_, batch_size=64, shuffle=False)\n",
    "test_dataloader = DataLoader(test_, batch_size=64, shuffle=False)"
   ]
  },
  {
   "cell_type": "code",
   "execution_count": 10,
   "metadata": {},
   "outputs": [
    {
     "name": "stdout",
     "output_type": "stream",
     "text": [
      "torch.Size([64, 16, 2])\n"
     ]
    }
   ],
   "source": [
    "# Verify DataLoader application and check the shape of the input data\n",
    "print(list(train_dataloader)[0][0].shape)"
   ]
  },
  {
   "cell_type": "markdown",
   "metadata": {},
   "source": [
    "## Model Configuration\n",
    "* Using Temporal Convolutional Network(TCN) model."
   ]
  },
  {
   "cell_type": "code",
   "execution_count": 11,
   "metadata": {},
   "outputs": [
    {
     "name": "stdout",
     "output_type": "stream",
     "text": [
      "TCN(\n",
      "  (network): Sequential(\n",
      "    (0): TemporalBlock(\n",
      "      (conv1): Conv1d(16, 32, kernel_size=(1,), stride=(1,))\n",
      "      (relu1): ReLU()\n",
      "      (dropout1): Dropout(p=0.05, inplace=False)\n",
      "      (conv2): Conv1d(32, 32, kernel_size=(1,), stride=(1,))\n",
      "      (relu2): ReLU()\n",
      "      (dropout2): Dropout(p=0.05, inplace=False)\n",
      "      (net): Sequential(\n",
      "        (0): Conv1d(16, 32, kernel_size=(1,), stride=(1,))\n",
      "        (1): ReLU()\n",
      "        (2): Dropout(p=0.05, inplace=False)\n",
      "        (3): Conv1d(32, 32, kernel_size=(1,), stride=(1,))\n",
      "        (4): ReLU()\n",
      "        (5): Dropout(p=0.05, inplace=False)\n",
      "      )\n",
      "      (downsample): Conv1d(16, 32, kernel_size=(1,), stride=(1,))\n",
      "      (relu): ReLU()\n",
      "    )\n",
      "    (1): TemporalBlock(\n",
      "      (conv1): Conv1d(32, 64, kernel_size=(1,), stride=(1,), dilation=(2,))\n",
      "      (relu1): ReLU()\n",
      "      (dropout1): Dropout(p=0.05, inplace=False)\n",
      "      (conv2): Conv1d(64, 64, kernel_size=(1,), stride=(1,), dilation=(2,))\n",
      "      (relu2): ReLU()\n",
      "      (dropout2): Dropout(p=0.05, inplace=False)\n",
      "      (net): Sequential(\n",
      "        (0): Conv1d(32, 64, kernel_size=(1,), stride=(1,), dilation=(2,))\n",
      "        (1): ReLU()\n",
      "        (2): Dropout(p=0.05, inplace=False)\n",
      "        (3): Conv1d(64, 64, kernel_size=(1,), stride=(1,), dilation=(2,))\n",
      "        (4): ReLU()\n",
      "        (5): Dropout(p=0.05, inplace=False)\n",
      "      )\n",
      "      (downsample): Conv1d(32, 64, kernel_size=(1,), stride=(1,))\n",
      "      (relu): ReLU()\n",
      "    )\n",
      "  )\n",
      "  (linear): Linear(in_features=64, out_features=3, bias=True)\n",
      ")\n"
     ]
    }
   ],
   "source": [
    "# Model configuration parameters\n",
    "input_channels = 16\n",
    "out_channels = 3\n",
    "hidden_channels = [32, 64] \n",
    "kernel_size = 1\n",
    "dropout = 0.05\n",
    "\n",
    "# Learning rate\n",
    "learning_rate = 0.001\n",
    "\n",
    "# Initialize the model, loss, and optimizer\n",
    "model = TCN(num_inputs=input_channels, num_channels=hidden_channels,out_channel=out_channels, kernel_size=kernel_size, dropout=dropout).to(device)\n",
    "\n",
    "# Configure loss function and optimizer\n",
    "criterion = nn.CrossEntropyLoss()\n",
    "optimizer = optim.Adam(model.parameters(), lr=learning_rate)\n",
    "\n",
    "# Check the model architecture\n",
    "print(model)"
   ]
  },
  {
   "cell_type": "markdown",
   "metadata": {},
   "source": [
    "## Model Training\n",
    "\n",
    "* Save the model with the F1 Score."
   ]
  },
  {
   "cell_type": "code",
   "execution_count": 12,
   "metadata": {},
   "outputs": [
    {
     "data": {
      "application/vnd.jupyter.widget-view+json": {
       "model_id": "42354a332de644e0ad279a05541b5d63",
       "version_major": 2,
       "version_minor": 0
      },
      "text/plain": [
       "training:   0%|          | 0/20 [00:00<?, ?it/s]"
      ]
     },
     "metadata": {},
     "output_type": "display_data"
    },
    {
     "name": "stderr",
     "output_type": "stream",
     "text": [
      "c:\\Users\\MACH-DE-28\\anaconda3\\envs\\test\\lib\\site-packages\\torch\\nn\\modules\\conv.py:306: UserWarning: Plan failed with a cudnnException: CUDNN_BACKEND_EXECUTION_PLAN_DESCRIPTOR: cudnnFinalize Descriptor Failed cudnn_status: CUDNN_STATUS_NOT_SUPPORTED (Triggered internally at C:\\actions-runner\\_work\\pytorch\\pytorch\\builder\\windows\\pytorch\\aten\\src\\ATen\\native\\cudnn\\Conv_v8.cpp:919.)\n",
      "  return F.conv1d(input, weight, bias, self.stride,\n",
      "c:\\Users\\MACH-DE-28\\anaconda3\\envs\\test\\lib\\site-packages\\torch\\autograd\\graph.py:744: UserWarning: Plan failed with a cudnnException: CUDNN_BACKEND_EXECUTION_PLAN_DESCRIPTOR: cudnnFinalize Descriptor Failed cudnn_status: CUDNN_STATUS_NOT_SUPPORTED (Triggered internally at C:\\actions-runner\\_work\\pytorch\\pytorch\\builder\\windows\\pytorch\\aten\\src\\ATen\\native\\cudnn\\Conv_v8.cpp:919.)\n",
      "  return Variable._execution_engine.run_backward(  # Calls into the C++ engine to run the backward pass\n",
      "c:\\Users\\MACH-DE-28\\anaconda3\\envs\\test\\lib\\site-packages\\torch\\nn\\modules\\conv.py:306: UserWarning: Plan failed with a cudnnException: CUDNN_BACKEND_EXECUTION_PLAN_DESCRIPTOR: cudnnFinalize Descriptor Failed cudnn_status: CUDNN_STATUS_NOT_SUPPORTED (Triggered internally at C:\\actions-runner\\_work\\pytorch\\pytorch\\builder\\windows\\pytorch\\aten\\src\\ATen\\native\\cudnn\\Conv_v8.cpp:919.)\n",
      "  return F.conv1d(input, weight, bias, self.stride,\n",
      "c:\\Users\\MACH-DE-28\\anaconda3\\envs\\test\\lib\\site-packages\\torch\\autograd\\graph.py:744: UserWarning: Plan failed with a cudnnException: CUDNN_BACKEND_EXECUTION_PLAN_DESCRIPTOR: cudnnFinalize Descriptor Failed cudnn_status: CUDNN_STATUS_NOT_SUPPORTED (Triggered internally at C:\\actions-runner\\_work\\pytorch\\pytorch\\builder\\windows\\pytorch\\aten\\src\\ATen\\native\\cudnn\\Conv_v8.cpp:919.)\n",
      "  return Variable._execution_engine.run_backward(  # Calls into the C++ engine to run the backward pass\n",
      "c:\\Users\\MACH-DE-28\\anaconda3\\envs\\test\\lib\\site-packages\\sklearn\\metrics\\_classification.py:1471: UndefinedMetricWarning: Precision and F-score are ill-defined and being set to 0.0 in labels with no predicted samples. Use `zero_division` parameter to control this behavior.\n",
      "  _warn_prf(average, modifier, msg_start, len(result))\n",
      "c:\\Users\\MACH-DE-28\\anaconda3\\envs\\test\\lib\\site-packages\\sklearn\\metrics\\_classification.py:1471: UndefinedMetricWarning: Precision and F-score are ill-defined and being set to 0.0 in labels with no predicted samples. Use `zero_division` parameter to control this behavior.\n",
      "  _warn_prf(average, modifier, msg_start, len(result))\n",
      "c:\\Users\\MACH-DE-28\\anaconda3\\envs\\test\\lib\\site-packages\\sklearn\\metrics\\_classification.py:1471: UndefinedMetricWarning: Precision and F-score are ill-defined and being set to 0.0 in labels with no predicted samples. Use `zero_division` parameter to control this behavior.\n",
      "  _warn_prf(average, modifier, msg_start, len(result))\n"
     ]
    },
    {
     "name": "stdout",
     "output_type": "stream",
     "text": [
      "\n",
      "train loss: 1.2593444353443082, train acc: 32.1706\n",
      "model save\n",
      "\n",
      "train loss: 1.0654736737073478, train acc: 45.9082\n",
      "model save\n",
      "\n",
      "train loss: 0.9132415241861748, train acc: 58.5994\n",
      "model save\n",
      "\n",
      "train loss: 0.7818744924882333, train acc: 61.5508\n",
      "model save\n",
      "\n",
      "train loss: 0.7358570639537332, train acc: 61.7387\n",
      "model save\n",
      "\n",
      "train loss: 0.6946969108766544, train acc: 67.2122\n",
      "model save\n",
      "\n",
      "train loss: 0.5490076067301018, train acc: 72.0955\n",
      "model save\n",
      "\n",
      "train loss: 0.6034766961840154, train acc: 72.8736\n",
      "model save\n",
      "\n",
      "train loss: 0.5163715459288974, train acc: 77.7837\n",
      "model save\n",
      "\n",
      "train loss: 0.6221765915081852, train acc: 76.0397\n",
      "\n",
      "train loss: 0.46710281407082466, train acc: 81.0035\n",
      "model save\n",
      "\n",
      "train loss: 0.619547666272472, train acc: 79.1790\n",
      "\n",
      "train loss: 0.41201301466913964, train acc: 84.2232\n",
      "model save\n",
      "\n",
      "train loss: 0.6172712384427156, train acc: 79.4204\n",
      "\n",
      "train loss: 0.38820596942739444, train acc: 85.6990\n",
      "model save\n",
      "\n",
      "train loss: 0.5746732959109437, train acc: 84.2769\n",
      "\n",
      "train loss: 0.38212503441619927, train acc: 85.7526\n",
      "model save\n",
      "\n",
      "train loss: 0.5611170338135276, train acc: 81.8889\n",
      "\n",
      "train loss: 0.3871888706718306, train acc: 84.5184\n",
      "\n",
      "train loss: 0.5175753557458678, train acc: 84.0622\n"
     ]
    }
   ],
   "source": [
    "# Initialize training loss\n",
    "train_loss = []\n",
    "# Initialize training accuracy\n",
    "train_acc = []\n",
    "# Initialize total step\n",
    "total_step = len(train_dataloader)\n",
    "# Set number of epochs\n",
    "epoch_in = trange(20, desc='training')\n",
    "# Initialize best F1 Score value\n",
    "best_f1= 0\n",
    "\n",
    "# Start model training\n",
    "for epoch in epoch_in:\n",
    "\n",
    "    model.train()\n",
    "    running_loss = 0.0\n",
    "    correct = 0\n",
    "    total=0\n",
    "    preds_ = []\n",
    "    targets_ = []\n",
    "    \n",
    "    # Initialize loss\n",
    "    train_loss = []\n",
    "    \n",
    "    for batch_idx, (data, target) in enumerate(train_dataloader):\n",
    "        \n",
    "        data = data.to(device).float()\n",
    "        target = target.to(device).long().squeeze()\n",
    "        \n",
    "        optimizer.zero_grad()\n",
    "        \n",
    "        # Input to the model\n",
    "        outputs = model(data)\n",
    "        \n",
    "        # Calculate loss\n",
    "        loss = criterion(outputs.squeeze(), target)\n",
    "        loss.backward()\n",
    "        optimizer.step()\n",
    "        \n",
    "        running_loss += loss.item()\n",
    "\n",
    "        # Set label predictions \n",
    "        _,pred = torch.max(outputs.squeeze(), dim=1)\n",
    "        target_ = target.view_as(pred)\n",
    "        correct += torch.sum(pred==target).item()\n",
    "        total += target.size(0)\n",
    "        \n",
    "        preds_.append(pred)\n",
    "        targets_.append(target_)\n",
    "            \n",
    "    train_acc.append(100 * correct / total)\n",
    "    train_loss.append(running_loss/total_step)\n",
    "    print(f'\\ntrain loss: {np.mean(train_loss)}, train acc: {(100 * correct / total):.4f}')\n",
    "\n",
    "    # Combine predictions and labels collected from all batches\n",
    "    preds_ = torch.cat(preds_).detach().cpu().numpy()\n",
    "    targets_ = torch.cat(targets_).detach().cpu().numpy()\n",
    "    \n",
    "    f1score = f1_score(targets_, preds_,  average='macro')\n",
    "    if best_f1 < f1score:\n",
    "        best_f1 = f1score\n",
    "        # Save the best model \n",
    "        with open(\"./result/Driving_Behavior_full.txt\", \"a\") as text_file:\n",
    "            print('epoch=====',epoch, file=text_file)\n",
    "            print(classification_report(targets_, preds_, digits=4), file=text_file)\n",
    "        print('model save')\n",
    "        torch.save(model, f'./result/Driving_Behavior_full.pt') \n",
    "    epoch_in.set_postfix_str(f\"epoch = {epoch},  f1_score = {f1score}, best_f1 = {best_f1}\")"
   ]
  },
  {
   "cell_type": "markdown",
   "metadata": {},
   "source": [
    "## Model Testing"
   ]
  },
  {
   "cell_type": "code",
   "execution_count": 13,
   "metadata": {},
   "outputs": [],
   "source": [
    "# Load the best model\n",
    "model_ = torch.load(f'./result/Driving_Behavior_full.pt')"
   ]
  },
  {
   "cell_type": "code",
   "execution_count": 14,
   "metadata": {},
   "outputs": [
    {
     "name": "stderr",
     "output_type": "stream",
     "text": [
      "c:\\Users\\MACH-DE-28\\anaconda3\\envs\\test\\lib\\site-packages\\torch\\nn\\modules\\conv.py:306: UserWarning: Plan failed with a cudnnException: CUDNN_BACKEND_EXECUTION_PLAN_DESCRIPTOR: cudnnFinalize Descriptor Failed cudnn_status: CUDNN_STATUS_NOT_SUPPORTED (Triggered internally at C:\\actions-runner\\_work\\pytorch\\pytorch\\builder\\windows\\pytorch\\aten\\src\\ATen\\native\\cudnn\\Conv_v8.cpp:919.)\n",
      "  return F.conv1d(input, weight, bias, self.stride,\n"
     ]
    }
   ],
   "source": [
    "# Model testing\n",
    "preds_test = []\n",
    "target_test = []\n",
    "with torch.no_grad():\n",
    "    model_.eval()\n",
    "    for batch_idx, (data, target) in enumerate(test_dataloader):\n",
    "        data = data.to(device).float()\n",
    "        target = target.to(device).long()\n",
    "        \n",
    "        outputs_t = model_(data)\n",
    "        \n",
    "        _,pred_t = torch.max(outputs_t, dim=1)\n",
    "        targets_t = target.view_as(pred_t).to(device)\n",
    "\n",
    "        preds_test.append(pred_t)\n",
    "        target_test.append(targets_t)\n",
    "        \n",
    "    # Combine predictions and labels collected from all batches\n",
    "    preds_test = torch.cat(preds_test).detach().cpu().numpy()\n",
    "    target_test = torch.cat(target_test).detach().cpu().numpy()"
   ]
  },
  {
   "cell_type": "markdown",
   "metadata": {},
   "source": [
    "## Model Performance Evaluation"
   ]
  },
  {
   "cell_type": "code",
   "execution_count": 16,
   "metadata": {},
   "outputs": [
    {
     "name": "stdout",
     "output_type": "stream",
     "text": [
      "              precision    recall  f1-score   support\n",
      "\n",
      "           0       0.00      0.00      0.00       997\n",
      "           1       1.00      0.89      0.94      1273\n",
      "           2       0.15      0.28      0.19       729\n",
      "\n",
      "    accuracy                           0.44      2999\n",
      "   macro avg       0.38      0.39      0.38      2999\n",
      "weighted avg       0.46      0.44      0.45      2999\n",
      "\n"
     ]
    }
   ],
   "source": [
    "print(classification_report(target_test, preds_test))"
   ]
  }
 ],
 "metadata": {
  "kernelspec": {
   "display_name": "test",
   "language": "python",
   "name": "python3"
  },
  "language_info": {
   "codemirror_mode": {
    "name": "ipython",
    "version": 3
   },
   "file_extension": ".py",
   "mimetype": "text/x-python",
   "name": "python",
   "nbconvert_exporter": "python",
   "pygments_lexer": "ipython3",
   "version": "3.8.19"
  }
 },
 "nbformat": 4,
 "nbformat_minor": 2
}
