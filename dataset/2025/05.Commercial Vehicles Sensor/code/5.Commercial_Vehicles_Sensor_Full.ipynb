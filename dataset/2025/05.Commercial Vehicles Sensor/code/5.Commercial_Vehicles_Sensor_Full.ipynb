{
 "cells": [
  {
   "cell_type": "markdown",
   "metadata": {},
   "source": [
    "# Commercial Vehicles Sensor Classification"
   ]
  },
  {
   "cell_type": "markdown",
   "metadata": {},
   "source": [
    "## Import Necessary Libraries"
   ]
  },
  {
   "cell_type": "code",
   "execution_count": 16,
   "metadata": {},
   "outputs": [
    {
     "name": "stdout",
     "output_type": "stream",
     "text": [
      "cuda\n"
     ]
    }
   ],
   "source": [
    "## Import necessary libraries\n",
    "import pandas as pd\n",
    "import numpy as np\n",
    "import random \n",
    "import pickle\n",
    "from urllib.parse import quote\n",
    "from sklearn.preprocessing import MinMaxScaler\n",
    "\n",
    "## Import necessary API\n",
    "import sys\n",
    "sys.path.append('../../../../')\n",
    "from api.v2.util.data_load import data_load\n",
    "from api.v2.model.Transformer import Transformer_Encoder\n",
    "\n",
    "## Import libraries for the model\n",
    "import torch\n",
    "from torch.utils.data import Dataset, DataLoader\n",
    "from tqdm.notebook import trange\n",
    "from sklearn.metrics import f1_score, classification_report\n",
    "\n",
    "## Set path for saving model training results \n",
    "import os\n",
    "os.makedirs('./result', exist_ok=True)\n",
    "\n",
    "## Set Cuda for computation\n",
    "device = torch.device(\"cuda\" if torch.cuda.is_available() else \"cpu\")\n",
    "print(device)\n",
    "\n",
    "## Set random seed\n",
    "def set_seed(seed_val):\n",
    "    random.seed(seed_val)\n",
    "    np.random.seed(seed_val)\n",
    "    torch.manual_seed(seed_val)\n",
    "    torch.cuda.manual_seed_all(seed_val)\n",
    "\n",
    "# Set seed\n",
    "seed_val = 77\n",
    "set_seed(seed_val)"
   ]
  },
  {
   "cell_type": "markdown",
   "metadata": {},
   "source": [
    "## Base Parameter Setting\n",
    "* Set parameters based on the information identified during EDA (Exploratory Data Analysis)."
   ]
  },
  {
   "cell_type": "code",
   "execution_count": 17,
   "metadata": {},
   "outputs": [],
   "source": [
    "# Set Commercial Vehicles Sensor Data Parameter\n",
    "\n",
    "# Set MachBase Neo URL address\n",
    "URL = 'http://127.0.0.1:5654'\n",
    "# Set Tag Table Name\n",
    "table = 'commercial_vehicles'\n",
    "# Select Tag Name -> Can Check Tag Names Using command 'show_column(URL, table)'\n",
    "# Set Austria Tag Name \n",
    "tags = ['gFx', 'gFy', 'gFz', 'label', 'speed', 'wx', 'wy', 'wz']\n",
    "# Wrap each item in the list with single quotes and separate with commas\n",
    "tags_ = \",\".join(f\"'{tag}'\" for tag in tags)\n",
    "# Set Tag Name\n",
    "name = quote(tags_, safe=\":/\")\n",
    "# Set resample Option -> D(day), H(hour), T(minute), S(second)\n",
    "resample_freq = None\n",
    "# Set Start time\n",
    "start_time = '2025-01-01 00:00:00'\n",
    "# Set End time \n",
    "end_time = '2025-01-01 04:44:00'\n",
    "# Set TimeFormat - > 'default' or quote('2006-01-02 15:04:05.000000')(Divided down to the nanosecond)\n",
    "timeformat = quote('2006-01-02 15:04:05.000000')"
   ]
  },
  {
   "cell_type": "markdown",
   "metadata": {},
   "source": [
    "## Commercial Vehicles Sensor Data Load"
   ]
  },
  {
   "cell_type": "code",
   "execution_count": 3,
   "metadata": {},
   "outputs": [],
   "source": [
    "# Commercial Vehicles Sensor Data Load\n",
    "df = data_load(URL, table, name, start_time, end_time, timeformat, resample_freq)\n",
    "\n",
    "# Move the 'label' column to the last position\n",
    "df = df.reindex(columns=[col for col in df.columns if col != 'label'] + ['label'])\n",
    "\n",
    "# Convert the 'label' column to integer type\n",
    "df['label'] = df['label'].astype(int)\n",
    "\n",
    "# Remove labels 0 and 5, as they have no meaning as labels\n",
    "df = df[(df['label'] != 0) & (df['label'] != 5)]\n",
    "\n",
    "# Adjust the label values to start from 0\n",
    "df['label'] = df['label'] - 1"
   ]
  },
  {
   "cell_type": "code",
   "execution_count": 4,
   "metadata": {},
   "outputs": [
    {
     "data": {
      "text/html": [
       "<div>\n",
       "<style scoped>\n",
       "    .dataframe tbody tr th:only-of-type {\n",
       "        vertical-align: middle;\n",
       "    }\n",
       "\n",
       "    .dataframe tbody tr th {\n",
       "        vertical-align: top;\n",
       "    }\n",
       "\n",
       "    .dataframe thead th {\n",
       "        text-align: right;\n",
       "    }\n",
       "</style>\n",
       "<table border=\"1\" class=\"dataframe\">\n",
       "  <thead>\n",
       "    <tr style=\"text-align: right;\">\n",
       "      <th>NAME</th>\n",
       "      <th>gFx</th>\n",
       "      <th>gFy</th>\n",
       "      <th>gFz</th>\n",
       "      <th>speed</th>\n",
       "      <th>wx</th>\n",
       "      <th>wy</th>\n",
       "      <th>wz</th>\n",
       "      <th>label</th>\n",
       "    </tr>\n",
       "    <tr>\n",
       "      <th>TIME</th>\n",
       "      <th></th>\n",
       "      <th></th>\n",
       "      <th></th>\n",
       "      <th></th>\n",
       "      <th></th>\n",
       "      <th></th>\n",
       "      <th></th>\n",
       "      <th></th>\n",
       "    </tr>\n",
       "  </thead>\n",
       "  <tbody>\n",
       "    <tr>\n",
       "      <th>2025-01-01 00:00:00.000000</th>\n",
       "      <td>-0.272700</td>\n",
       "      <td>0.044200</td>\n",
       "      <td>0.938200</td>\n",
       "      <td>0.000000</td>\n",
       "      <td>-0.0053</td>\n",
       "      <td>-0.0077</td>\n",
       "      <td>-0.0331</td>\n",
       "      <td>0</td>\n",
       "    </tr>\n",
       "    <tr>\n",
       "      <th>2025-01-01 00:00:00.009999</th>\n",
       "      <td>-0.272700</td>\n",
       "      <td>0.044200</td>\n",
       "      <td>0.938200</td>\n",
       "      <td>0.000000</td>\n",
       "      <td>-0.0053</td>\n",
       "      <td>-0.0077</td>\n",
       "      <td>-0.0331</td>\n",
       "      <td>0</td>\n",
       "    </tr>\n",
       "    <tr>\n",
       "      <th>2025-01-01 00:00:00.020000</th>\n",
       "      <td>-0.289500</td>\n",
       "      <td>0.046200</td>\n",
       "      <td>0.993400</td>\n",
       "      <td>0.000000</td>\n",
       "      <td>-0.0010</td>\n",
       "      <td>0.0070</td>\n",
       "      <td>-0.0312</td>\n",
       "      <td>0</td>\n",
       "    </tr>\n",
       "    <tr>\n",
       "      <th>2025-01-01 00:00:00.029999</th>\n",
       "      <td>-0.289500</td>\n",
       "      <td>0.046200</td>\n",
       "      <td>0.993400</td>\n",
       "      <td>0.000000</td>\n",
       "      <td>-0.0010</td>\n",
       "      <td>0.0070</td>\n",
       "      <td>-0.0312</td>\n",
       "      <td>0</td>\n",
       "    </tr>\n",
       "    <tr>\n",
       "      <th>2025-01-01 00:00:00.040000</th>\n",
       "      <td>-0.289500</td>\n",
       "      <td>0.046200</td>\n",
       "      <td>0.993400</td>\n",
       "      <td>0.000000</td>\n",
       "      <td>-0.0010</td>\n",
       "      <td>0.0070</td>\n",
       "      <td>-0.0312</td>\n",
       "      <td>0</td>\n",
       "    </tr>\n",
       "    <tr>\n",
       "      <th>...</th>\n",
       "      <td>...</td>\n",
       "      <td>...</td>\n",
       "      <td>...</td>\n",
       "      <td>...</td>\n",
       "      <td>...</td>\n",
       "      <td>...</td>\n",
       "      <td>...</td>\n",
       "      <td>...</td>\n",
       "    </tr>\n",
       "    <tr>\n",
       "      <th>2025-01-01 04:43:19.792028</th>\n",
       "      <td>-0.236300</td>\n",
       "      <td>0.020500</td>\n",
       "      <td>0.950400</td>\n",
       "      <td>3.246584</td>\n",
       "      <td>0.0223</td>\n",
       "      <td>0.0100</td>\n",
       "      <td>0.0157</td>\n",
       "      <td>1</td>\n",
       "    </tr>\n",
       "    <tr>\n",
       "      <th>2025-01-01 04:43:19.802028</th>\n",
       "      <td>-0.236300</td>\n",
       "      <td>0.020500</td>\n",
       "      <td>0.950400</td>\n",
       "      <td>3.246584</td>\n",
       "      <td>0.0223</td>\n",
       "      <td>0.0100</td>\n",
       "      <td>0.0157</td>\n",
       "      <td>1</td>\n",
       "    </tr>\n",
       "    <tr>\n",
       "      <th>2025-01-01 04:43:19.812028</th>\n",
       "      <td>-0.241854</td>\n",
       "      <td>-0.017826</td>\n",
       "      <td>0.966228</td>\n",
       "      <td>3.246584</td>\n",
       "      <td>0.0144</td>\n",
       "      <td>0.0216</td>\n",
       "      <td>0.0157</td>\n",
       "      <td>1</td>\n",
       "    </tr>\n",
       "    <tr>\n",
       "      <th>2025-01-01 04:43:19.822029</th>\n",
       "      <td>-0.227540</td>\n",
       "      <td>0.000489</td>\n",
       "      <td>0.910911</td>\n",
       "      <td>3.246584</td>\n",
       "      <td>0.0144</td>\n",
       "      <td>0.0216</td>\n",
       "      <td>0.0157</td>\n",
       "      <td>1</td>\n",
       "    </tr>\n",
       "    <tr>\n",
       "      <th>2025-01-01 04:43:19.832029</th>\n",
       "      <td>-0.241440</td>\n",
       "      <td>-0.003311</td>\n",
       "      <td>0.949011</td>\n",
       "      <td>3.246584</td>\n",
       "      <td>0.0144</td>\n",
       "      <td>0.0216</td>\n",
       "      <td>0.0157</td>\n",
       "      <td>1</td>\n",
       "    </tr>\n",
       "  </tbody>\n",
       "</table>\n",
       "<p>1130393 rows × 8 columns</p>\n",
       "</div>"
      ],
      "text/plain": [
       "NAME                             gFx       gFy       gFz     speed      wx  \\\n",
       "TIME                                                                         \n",
       "2025-01-01 00:00:00.000000 -0.272700  0.044200  0.938200  0.000000 -0.0053   \n",
       "2025-01-01 00:00:00.009999 -0.272700  0.044200  0.938200  0.000000 -0.0053   \n",
       "2025-01-01 00:00:00.020000 -0.289500  0.046200  0.993400  0.000000 -0.0010   \n",
       "2025-01-01 00:00:00.029999 -0.289500  0.046200  0.993400  0.000000 -0.0010   \n",
       "2025-01-01 00:00:00.040000 -0.289500  0.046200  0.993400  0.000000 -0.0010   \n",
       "...                              ...       ...       ...       ...     ...   \n",
       "2025-01-01 04:43:19.792028 -0.236300  0.020500  0.950400  3.246584  0.0223   \n",
       "2025-01-01 04:43:19.802028 -0.236300  0.020500  0.950400  3.246584  0.0223   \n",
       "2025-01-01 04:43:19.812028 -0.241854 -0.017826  0.966228  3.246584  0.0144   \n",
       "2025-01-01 04:43:19.822029 -0.227540  0.000489  0.910911  3.246584  0.0144   \n",
       "2025-01-01 04:43:19.832029 -0.241440 -0.003311  0.949011  3.246584  0.0144   \n",
       "\n",
       "NAME                            wy      wz  label  \n",
       "TIME                                               \n",
       "2025-01-01 00:00:00.000000 -0.0077 -0.0331      0  \n",
       "2025-01-01 00:00:00.009999 -0.0077 -0.0331      0  \n",
       "2025-01-01 00:00:00.020000  0.0070 -0.0312      0  \n",
       "2025-01-01 00:00:00.029999  0.0070 -0.0312      0  \n",
       "2025-01-01 00:00:00.040000  0.0070 -0.0312      0  \n",
       "...                            ...     ...    ...  \n",
       "2025-01-01 04:43:19.792028  0.0100  0.0157      1  \n",
       "2025-01-01 04:43:19.802028  0.0100  0.0157      1  \n",
       "2025-01-01 04:43:19.812028  0.0216  0.0157      1  \n",
       "2025-01-01 04:43:19.822029  0.0216  0.0157      1  \n",
       "2025-01-01 04:43:19.832029  0.0216  0.0157      1  \n",
       "\n",
       "[1130393 rows x 8 columns]"
      ]
     },
     "execution_count": 4,
     "metadata": {},
     "output_type": "execute_result"
    }
   ],
   "source": [
    "df"
   ]
  },
  {
   "cell_type": "code",
   "execution_count": 5,
   "metadata": {},
   "outputs": [],
   "source": [
    "# Split the data into train, test sets\n",
    "train = df[df.index.hour < 4]\n",
    "test = df[df.index.hour >= 4]"
   ]
  },
  {
   "cell_type": "markdown",
   "metadata": {},
   "source": [
    "## Data Preprocessing\n",
    "* 1 Min-Max Scaling"
   ]
  },
  {
   "cell_type": "code",
   "execution_count": 6,
   "metadata": {},
   "outputs": [],
   "source": [
    "# Set up Scalers\n",
    "scaler = MinMaxScaler()\n",
    "\n",
    "# Apply Scalers\n",
    "train_ = scaler.fit_transform(train.iloc[:,:-1].values)\n",
    "test_ = scaler.transform(test.iloc[:,:-1].values)\n",
    "\n",
    "# Set Each DataFrames\n",
    "train_scaled = pd.DataFrame(train_, columns=train.columns[:-1])\n",
    "train_scaled['label'] = train['label'].values\n",
    "\n",
    "test_scaled = pd.DataFrame(test_, columns=test.columns[:-1])\n",
    "test_scaled['label'] = test['label'].values\n",
    "\n",
    "# Save Scaler\n",
    "with open('./result/trans_scaler.pkl', 'wb') as file:\n",
    "    pickle.dump(scaler, file)"
   ]
  },
  {
   "cell_type": "markdown",
   "metadata": {},
   "source": [
    "## Dataset & Loader Setup"
   ]
  },
  {
   "cell_type": "code",
   "execution_count": 7,
   "metadata": {},
   "outputs": [],
   "source": [
    "class Vehicles_Dataset(Dataset):\n",
    "\n",
    "    def __init__(self, df):\n",
    "        self.freq_data = df.iloc[:,:-1]\n",
    "        self.label = df.iloc[:,-1:].values\n",
    "\n",
    "    def __len__(self):\n",
    "        return len(self.freq_data)\n",
    "\n",
    "    def __getitem__(self, index):\n",
    "\n",
    "        input_time_data = self.freq_data.iloc[index,:]\n",
    "        input_time_data = torch.Tensor(input_time_data).expand(1, input_time_data.shape[0])\n",
    "        label = self.label[index]\n",
    "\n",
    "        return input_time_data, label"
   ]
  },
  {
   "cell_type": "code",
   "execution_count": 8,
   "metadata": {},
   "outputs": [],
   "source": [
    "# Set up datasets  \n",
    "train_ = Vehicles_Dataset(train_scaled)\n",
    "test_ = Vehicles_Dataset(test_scaled)\n",
    "\n",
    "# Set up data loaders\n",
    "train_dataloader = DataLoader(train_, batch_size=64, shuffle=True)\n",
    "test_dataloader = DataLoader(test_, batch_size=64, shuffle=False)"
   ]
  },
  {
   "cell_type": "code",
   "execution_count": 9,
   "metadata": {},
   "outputs": [
    {
     "name": "stdout",
     "output_type": "stream",
     "text": [
      "torch.Size([64, 1, 7])\n"
     ]
    }
   ],
   "source": [
    "# Verify DataLoader application and check the shape of the input data\n",
    "print(list(train_dataloader)[0][0].shape)"
   ]
  },
  {
   "cell_type": "markdown",
   "metadata": {},
   "source": [
    "## Model Configuration\n",
    "* Using Transformer model."
   ]
  },
  {
   "cell_type": "code",
   "execution_count": 18,
   "metadata": {},
   "outputs": [
    {
     "name": "stdout",
     "output_type": "stream",
     "text": [
      "Transformer_Encoder(\n",
      "  (input_embedding): Linear(in_features=7, out_features=64, bias=True)\n",
      "  (encoder_layer): TransformerEncoderLayer(\n",
      "    (self_attn): MultiheadAttention(\n",
      "      (out_proj): NonDynamicallyQuantizableLinear(in_features=64, out_features=64, bias=True)\n",
      "    )\n",
      "    (linear1): Linear(in_features=64, out_features=512, bias=True)\n",
      "    (dropout): Dropout(p=0.1, inplace=False)\n",
      "    (linear2): Linear(in_features=512, out_features=64, bias=True)\n",
      "    (norm1): LayerNorm((64,), eps=1e-05, elementwise_affine=True)\n",
      "    (norm2): LayerNorm((64,), eps=1e-05, elementwise_affine=True)\n",
      "    (dropout1): Dropout(p=0.1, inplace=False)\n",
      "    (dropout2): Dropout(p=0.1, inplace=False)\n",
      "  )\n",
      "  (transformer_encoder): TransformerEncoder(\n",
      "    (layers): ModuleList(\n",
      "      (0-2): 3 x TransformerEncoderLayer(\n",
      "        (self_attn): MultiheadAttention(\n",
      "          (out_proj): NonDynamicallyQuantizableLinear(in_features=64, out_features=64, bias=True)\n",
      "        )\n",
      "        (linear1): Linear(in_features=64, out_features=512, bias=True)\n",
      "        (dropout): Dropout(p=0.1, inplace=False)\n",
      "        (linear2): Linear(in_features=512, out_features=64, bias=True)\n",
      "        (norm1): LayerNorm((64,), eps=1e-05, elementwise_affine=True)\n",
      "        (norm2): LayerNorm((64,), eps=1e-05, elementwise_affine=True)\n",
      "        (dropout1): Dropout(p=0.1, inplace=False)\n",
      "        (dropout2): Dropout(p=0.1, inplace=False)\n",
      "      )\n",
      "    )\n",
      "  )\n",
      "  (fc_out): Linear(in_features=64, out_features=6, bias=True)\n",
      ")\n"
     ]
    }
   ],
   "source": [
    "# Hyperparameter settings\n",
    "input_dim = 7         # Number of features in the time series\n",
    "model_dim = 64        # Dimension of the model\n",
    "num_heads = 2         # Number of attention heads\n",
    "num_layers = 3        # Number of Transformer layers\n",
    "output_dim = 6        # Dimension of the predicted labels\n",
    "dropout = 0.1         # Dropout rate\n",
    "\n",
    "# Model configuration\n",
    "model = Transformer_Encoder(input_dim, model_dim, num_heads, num_layers, output_dim, dropout).to(device)\n",
    "\n",
    "# Loss function and optimizer configuration\n",
    "criterion = torch.nn.CrossEntropyLoss()\n",
    "optimizer = torch.optim.Adam(model.parameters(), lr=0.001)\n",
    "\n",
    "print(model)"
   ]
  },
  {
   "cell_type": "markdown",
   "metadata": {},
   "source": [
    "## Model Training\n",
    "\n",
    "* Save the model with the Best F1 Score based on the train data during training."
   ]
  },
  {
   "cell_type": "code",
   "execution_count": 12,
   "metadata": {},
   "outputs": [
    {
     "data": {
      "application/vnd.jupyter.widget-view+json": {
       "model_id": "cd58fdd9c09d4475aff931af63bb91f9",
       "version_major": 2,
       "version_minor": 0
      },
      "text/plain": [
       "training:   0%|          | 0/20 [00:00<?, ?it/s]"
      ]
     },
     "metadata": {},
     "output_type": "display_data"
    },
    {
     "name": "stderr",
     "output_type": "stream",
     "text": [
      "c:\\Users\\MACH-DE-28\\anaconda3\\envs\\test\\lib\\site-packages\\torch\\nn\\functional.py:5504: UserWarning: 1Torch was not compiled with flash attention. (Triggered internally at C:\\actions-runner\\_work\\pytorch\\pytorch\\builder\\windows\\pytorch\\aten\\src\\ATen\\native\\transformers\\cuda\\sdp_utils.cpp:455.)\n",
      "  attn_output = scaled_dot_product_attention(q, k, v, attn_mask, dropout_p, is_causal)\n"
     ]
    },
    {
     "name": "stdout",
     "output_type": "stream",
     "text": [
      "\n",
      "train loss: 0.4242396907582764, train acc: 83.9889\n"
     ]
    },
    {
     "name": "stderr",
     "output_type": "stream",
     "text": [
      "c:\\Users\\MACH-DE-28\\anaconda3\\envs\\test\\lib\\site-packages\\sklearn\\metrics\\_classification.py:1471: UndefinedMetricWarning: Recall and F-score are ill-defined and being set to 0.0 in labels with no true samples. Use `zero_division` parameter to control this behavior.\n",
      "  _warn_prf(average, modifier, msg_start, len(result))\n",
      "c:\\Users\\MACH-DE-28\\anaconda3\\envs\\test\\lib\\site-packages\\sklearn\\metrics\\_classification.py:1471: UndefinedMetricWarning: Recall and F-score are ill-defined and being set to 0.0 in labels with no true samples. Use `zero_division` parameter to control this behavior.\n",
      "  _warn_prf(average, modifier, msg_start, len(result))\n",
      "c:\\Users\\MACH-DE-28\\anaconda3\\envs\\test\\lib\\site-packages\\sklearn\\metrics\\_classification.py:1471: UndefinedMetricWarning: Recall and F-score are ill-defined and being set to 0.0 in labels with no true samples. Use `zero_division` parameter to control this behavior.\n",
      "  _warn_prf(average, modifier, msg_start, len(result))\n"
     ]
    },
    {
     "name": "stdout",
     "output_type": "stream",
     "text": [
      "model save\n",
      "\n",
      "train loss: 0.3439836549059704, train acc: 87.0349\n",
      "model save\n",
      "\n",
      "train loss: 0.3206093940851281, train acc: 87.9573\n",
      "model save\n",
      "\n",
      "train loss: 0.3035449644920581, train acc: 88.6187\n",
      "model save\n",
      "\n",
      "train loss: 0.28597104062252504, train acc: 89.3761\n",
      "model save\n",
      "\n",
      "train loss: 0.27451117475890346, train acc: 89.8258\n",
      "model save\n",
      "\n",
      "train loss: 0.2636892217366246, train acc: 90.2828\n",
      "model save\n",
      "\n",
      "train loss: 0.2555057024740027, train acc: 90.6163\n",
      "model save\n",
      "\n",
      "train loss: 0.24909691200559783, train acc: 90.8777\n",
      "model save\n",
      "\n",
      "train loss: 0.24171262188817935, train acc: 91.1744\n",
      "model save\n",
      "\n",
      "train loss: 0.23805520613573375, train acc: 91.3430\n",
      "model save\n",
      "\n",
      "train loss: 0.23428755970865556, train acc: 91.5018\n",
      "model save\n",
      "\n",
      "train loss: 0.23041820415659878, train acc: 91.6270\n",
      "model save\n",
      "\n",
      "train loss: 0.22614723819252996, train acc: 91.8035\n",
      "model save\n",
      "\n",
      "train loss: 0.224583660335315, train acc: 91.8746\n",
      "model save\n",
      "\n",
      "train loss: 0.22180835534133383, train acc: 91.9784\n",
      "model save\n",
      "\n",
      "train loss: 0.21966864783682505, train acc: 92.0575\n",
      "model save\n",
      "\n",
      "train loss: 0.2168900783980165, train acc: 92.1883\n",
      "model save\n",
      "\n",
      "train loss: 0.21423049010410353, train acc: 92.2593\n",
      "model save\n",
      "\n",
      "train loss: 0.21327378566434177, train acc: 92.3068\n",
      "model save\n"
     ]
    }
   ],
   "source": [
    "# Initialize training loss\n",
    "train_loss = []\n",
    "# Initialize training accuracy\n",
    "train_acc = []\n",
    "# Initialize total step\n",
    "total_step = len(train_dataloader)\n",
    "# Set number of epochs\n",
    "epoch_in = trange(20, desc='training')\n",
    "# Initialize best F1 Score value\n",
    "best_f1= 0\n",
    "\n",
    "# Start model training\n",
    "for epoch in epoch_in:\n",
    "\n",
    "    model.train()\n",
    "    running_loss = 0.0\n",
    "    correct = 0\n",
    "    total=0\n",
    "    preds_ = []\n",
    "    targets_ = []\n",
    "    \n",
    "    # Initialize loss\n",
    "    train_loss = []\n",
    "    \n",
    "    for batch_idx, (data, target) in enumerate(train_dataloader):\n",
    "        \n",
    "        data = data.to(device).float()\n",
    "        target = target.to(device).long().squeeze()\n",
    " \n",
    "        optimizer.zero_grad()\n",
    "        \n",
    "        # Input to the model\n",
    "        outputs = model(data)\n",
    "        outputs = outputs.squeeze()\n",
    "    \n",
    "        # Calculate loss\n",
    "        loss = criterion(outputs, target)\n",
    "        loss.backward()\n",
    "        optimizer.step()\n",
    "        \n",
    "        running_loss += loss.item()\n",
    "\n",
    "        # Set label predictions \n",
    "        _,pred = torch.max(outputs, dim=1)\n",
    "        target_ = target.view_as(pred)\n",
    "        correct += torch.sum(pred==target).item()\n",
    "        total += target.size(0)\n",
    "        \n",
    "        preds_.append(pred)\n",
    "        targets_.append(target_)\n",
    "            \n",
    "    train_acc.append(100 * correct / total)\n",
    "    train_loss.append(running_loss/total_step)\n",
    "    print(f'\\ntrain loss: {np.mean(train_loss)}, train acc: {(100 * correct / total):.4f}')\n",
    "\n",
    "    # Combine predictions and labels collected from all batches\n",
    "    preds_ = torch.cat(preds_).detach().cpu().numpy()\n",
    "    targets_ = torch.cat(targets_).detach().cpu().numpy()\n",
    "    \n",
    "    f1score = f1_score(targets_, preds_,  average='macro')\n",
    "    if best_f1 < f1score:\n",
    "        best_f1 = f1score\n",
    "        # Save the best model \n",
    "        with open(\"./result/Commercial_Vehicles_Sensor_Full.txt\", \"a\") as text_file:\n",
    "            print('epoch=====',epoch, file=text_file)\n",
    "            print(classification_report(targets_, preds_, digits=4), file=text_file)\n",
    "        print('model save')\n",
    "        torch.save(model, f'./result/Commercial_Vehicles_Sensor_Full.pt') \n",
    "    epoch_in.set_postfix_str(f\"epoch = {epoch},  f1_score = {f1score}, best_f1 = {best_f1}\")"
   ]
  },
  {
   "cell_type": "markdown",
   "metadata": {},
   "source": [
    "## Model Testing"
   ]
  },
  {
   "cell_type": "code",
   "execution_count": 13,
   "metadata": {},
   "outputs": [],
   "source": [
    "# Load the best model\n",
    "model_ = torch.load(f'./result/Commercial_Vehicles_Sensor_Full.pt')"
   ]
  },
  {
   "cell_type": "code",
   "execution_count": 14,
   "metadata": {},
   "outputs": [],
   "source": [
    "# Model testing\n",
    "preds_test = []\n",
    "target_test = []\n",
    "with torch.no_grad():\n",
    "    model_.eval()\n",
    "    for batch_idx, (data, target) in enumerate(test_dataloader):\n",
    "        data = data.to(device).float()\n",
    "        target = target.to(device).long().squeeze()\n",
    "        \n",
    "        outputs_t = model_(data)\n",
    "        outputs_t = outputs_t.squeeze()\n",
    "        \n",
    "        _,pred_t = torch.max(outputs_t, dim=1)\n",
    "        targets_t = target.view_as(pred_t).to(device)\n",
    "\n",
    "        preds_test.append(pred_t)\n",
    "        target_test.append(targets_t)\n",
    "        \n",
    "    # Combine predictions and labels collected from all batches\n",
    "    preds_test = torch.cat(preds_test).detach().cpu().numpy()\n",
    "    target_test = torch.cat(target_test).detach().cpu().numpy()"
   ]
  },
  {
   "cell_type": "markdown",
   "metadata": {},
   "source": [
    "## Model Performance Evaluation"
   ]
  },
  {
   "cell_type": "code",
   "execution_count": 15,
   "metadata": {},
   "outputs": [
    {
     "name": "stdout",
     "output_type": "stream",
     "text": [
      "              precision    recall  f1-score   support\n",
      "\n",
      "           0       0.30      0.31      0.30     25611\n",
      "           1       0.87      0.95      0.91    127886\n",
      "           2       0.75      0.58      0.65     85496\n",
      "           3       0.40      0.53      0.46     20991\n",
      "\n",
      "    accuracy                           0.73    259984\n",
      "   macro avg       0.58      0.59      0.58    259984\n",
      "weighted avg       0.73      0.73      0.73    259984\n",
      "\n"
     ]
    }
   ],
   "source": [
    "print(classification_report(target_test, preds_test))"
   ]
  }
 ],
 "metadata": {
  "kernelspec": {
   "display_name": "test",
   "language": "python",
   "name": "python3"
  },
  "language_info": {
   "codemirror_mode": {
    "name": "ipython",
    "version": 3
   },
   "file_extension": ".py",
   "mimetype": "text/x-python",
   "name": "python",
   "nbconvert_exporter": "python",
   "pygments_lexer": "ipython3",
   "version": "3.8.19"
  }
 },
 "nbformat": 4,
 "nbformat_minor": 2
}
