{
 "cells": [
  {
   "cell_type": "code",
   "execution_count": 1,
   "metadata": {},
   "outputs": [],
   "source": [
    "## 사용 라이브러리 호출\n",
    "import pandas as pd\n",
    "from urllib.parse import quote"
   ]
  },
  {
   "cell_type": "code",
   "execution_count": 2,
   "metadata": {},
   "outputs": [],
   "source": [
    "## 파라미터 예시 1\n",
    "\n",
    "target = \"name,time,value\"\n",
    "table = \"home\"\n",
    "name = \"'TAG-pressure','TAG-dewPoint'\"\n",
    "start = quote(\"2016-01-01 14:00:00\")\n",
    "end = quote(\"2017-01-01 14:00:10\")"
   ]
  },
  {
   "cell_type": "code",
   "execution_count": 3,
   "metadata": {},
   "outputs": [],
   "source": [
    "## 파라미터 예시 2\n",
    "\n",
    "target = \"name,time,value\"\n",
    "table = \"home\"\n",
    "name = \"'TAG-dewPoint'\"\n",
    "start = quote(\"'2016-01-01 14:00:00'\")\n",
    "end = quote(\"'2017-01-01 14:00:10'\")"
   ]
  },
  {
   "cell_type": "code",
   "execution_count": 4,
   "metadata": {},
   "outputs": [],
   "source": [
    "# 파라미터 예시 3 \n",
    "\n",
    "target = \"name,time,value\"\n",
    "table = \"home\"\n",
    "name = \"'TAG-dewPoint'\"\n",
    "start = quote(\"TO_DATE('2016-01-01 14:00:00.000000000', 'YYYY-MM-DD HH24:MI:SS.mmmuuunnn')\")\n",
    "end = quote(\"TO_DATE('2016-01-01 14:00:18.999999999', 'YYYY-MM-DD HH24:MI:SS.mmmuuunnn')\")"
   ]
  },
  {
   "cell_type": "code",
   "execution_count": 5,
   "metadata": {},
   "outputs": [],
   "source": [
    "# 파라미터 예시 4\n",
    "\n",
    "target = \"name,time,value\"\n",
    "table = \"home\"\n",
    "name = \"'TAG-pressure','TAG-dewPoint'\"\n",
    "start = \"1451624400000000000\"\n",
    "end = \"1451624407000000000\""
   ]
  },
  {
   "cell_type": "markdown",
   "metadata": {},
   "source": [
    "## GET_TAG_NAME\n",
    "* Machbase Neo 내부 사용자가 원하는 Tag Table 의 Tag Name 리스트를 호출\n",
    "* Tag Name 은 Column name 을 의미\n",
    "* 파라미터 \n",
    "  * table : Tag Name 리스트를 호출할 table 이름 ex) ‘home’\n"
   ]
  },
  {
   "cell_type": "code",
   "execution_count": 6,
   "metadata": {},
   "outputs": [
    {
     "data": {
      "text/plain": [
       "['TAG-Barn [kW]',\n",
       " 'TAG-Dishwasher [kW]',\n",
       " 'TAG-Fridge [kW]',\n",
       " 'TAG-Furnace 1 [kW]',\n",
       " 'TAG-Furnace 2 [kW]',\n",
       " 'TAG-Garage door [kW]',\n",
       " 'TAG-Home office [kW]',\n",
       " 'TAG-House overall [kW]',\n",
       " 'TAG-Kitchen 12 [kW]',\n",
       " 'TAG-Kitchen 14 [kW]',\n",
       " 'TAG-Kitchen 38 [kW]',\n",
       " 'TAG-Living room [kW]',\n",
       " 'TAG-Microwave [kW]',\n",
       " 'TAG-Solar [kW]',\n",
       " 'TAG-Well [kW]',\n",
       " 'TAG-Wine cellar [kW]',\n",
       " 'TAG-apparentTemperature',\n",
       " 'TAG-dewPoint',\n",
       " 'TAG-gen [kW]',\n",
       " 'TAG-humidity',\n",
       " 'TAG-precipIntensity',\n",
       " 'TAG-precipProbability',\n",
       " 'TAG-pressure',\n",
       " 'TAG-temperature',\n",
       " 'TAG-use [kW]',\n",
       " 'TAG-visibility',\n",
       " 'TAG-windBearing',\n",
       " 'TAG-windSpeed']"
      ]
     },
     "execution_count": 6,
     "metadata": {},
     "output_type": "execute_result"
    }
   ],
   "source": [
    "# 파라미터 설정\n",
    "table = 'home'\n",
    "\n",
    "# Tag name 데이터 로드\n",
    "df = pd.read_csv(f'http://127.0.0.1:5654/db/tql/datahub/api/v1/get_tag_names.tql?table={table}')\n",
    "\n",
    "# List 형식으로 변환\n",
    "df = df.values.reshape(-1).tolist()\n",
    "\n",
    "df"
   ]
  },
  {
   "cell_type": "markdown",
   "metadata": {},
   "source": [
    "## Select-Rawdata\n",
    "* Machbase Neo 내부 사용자가 원하는 Tag Table 의 Raw data 를 호출\n",
    "* 파라미터\n",
    "   * table : Tag Name 리스트를 호출할 Tag Table 이름\n",
    "   * name : Tag Table 중 호출할 Tag Name\n",
    "   * start : Tag Table 에서 Raw data 를 가져올 시작 시간\n",
    "   * end : Tag Table 에서 Raw data 를 가져올 시작 시간\n",
    "   * limit : 가져올 Raw data 의 개수 제한 (default = None)\n"
   ]
  },
  {
   "cell_type": "code",
   "execution_count": 7,
   "metadata": {},
   "outputs": [
    {
     "data": {
      "text/html": [
       "<div>\n",
       "<style scoped>\n",
       "    .dataframe tbody tr th:only-of-type {\n",
       "        vertical-align: middle;\n",
       "    }\n",
       "\n",
       "    .dataframe tbody tr th {\n",
       "        vertical-align: top;\n",
       "    }\n",
       "\n",
       "    .dataframe thead th {\n",
       "        text-align: right;\n",
       "    }\n",
       "</style>\n",
       "<table border=\"1\" class=\"dataframe\">\n",
       "  <thead>\n",
       "    <tr style=\"text-align: right;\">\n",
       "      <th>NAME</th>\n",
       "      <th>TIME</th>\n",
       "      <th>TAG-dewPoint</th>\n",
       "      <th>TAG-pressure</th>\n",
       "    </tr>\n",
       "  </thead>\n",
       "  <tbody>\n",
       "    <tr>\n",
       "      <th>0</th>\n",
       "      <td>2016-01-01 14:00:00</td>\n",
       "      <td>24.4</td>\n",
       "      <td>1016.91</td>\n",
       "    </tr>\n",
       "    <tr>\n",
       "      <th>1</th>\n",
       "      <td>2016-01-01 14:00:01</td>\n",
       "      <td>24.4</td>\n",
       "      <td>1016.91</td>\n",
       "    </tr>\n",
       "    <tr>\n",
       "      <th>2</th>\n",
       "      <td>2016-01-01 14:00:02</td>\n",
       "      <td>24.4</td>\n",
       "      <td>1016.91</td>\n",
       "    </tr>\n",
       "    <tr>\n",
       "      <th>3</th>\n",
       "      <td>2016-01-01 14:00:03</td>\n",
       "      <td>24.4</td>\n",
       "      <td>1016.91</td>\n",
       "    </tr>\n",
       "    <tr>\n",
       "      <th>4</th>\n",
       "      <td>2016-01-01 14:00:04</td>\n",
       "      <td>24.4</td>\n",
       "      <td>1016.91</td>\n",
       "    </tr>\n",
       "    <tr>\n",
       "      <th>5</th>\n",
       "      <td>2016-01-01 14:00:05</td>\n",
       "      <td>24.4</td>\n",
       "      <td>1016.91</td>\n",
       "    </tr>\n",
       "    <tr>\n",
       "      <th>6</th>\n",
       "      <td>2016-01-01 14:00:06</td>\n",
       "      <td>24.4</td>\n",
       "      <td>1016.91</td>\n",
       "    </tr>\n",
       "    <tr>\n",
       "      <th>7</th>\n",
       "      <td>2016-01-01 14:00:07</td>\n",
       "      <td>24.4</td>\n",
       "      <td>1016.91</td>\n",
       "    </tr>\n",
       "  </tbody>\n",
       "</table>\n",
       "</div>"
      ],
      "text/plain": [
       "NAME                 TIME  TAG-dewPoint  TAG-pressure\n",
       "0     2016-01-01 14:00:00          24.4       1016.91\n",
       "1     2016-01-01 14:00:01          24.4       1016.91\n",
       "2     2016-01-01 14:00:02          24.4       1016.91\n",
       "3     2016-01-01 14:00:03          24.4       1016.91\n",
       "4     2016-01-01 14:00:04          24.4       1016.91\n",
       "5     2016-01-01 14:00:05          24.4       1016.91\n",
       "6     2016-01-01 14:00:06          24.4       1016.91\n",
       "7     2016-01-01 14:00:07          24.4       1016.91"
      ]
     },
     "execution_count": 7,
     "metadata": {},
     "output_type": "execute_result"
    }
   ],
   "source": [
    "# 데이터 로드 \n",
    "df = pd.read_csv(f'http://127.0.0.1:5654/db/tql/datahub/api/v1/select-rawdata.tql?table={table}&name={name}&start={start}&end={end}')\n",
    "\n",
    "# 같은 시간대 별 데이터로 전환\n",
    "df = df.pivot_table(index='TIME', columns='NAME', values='VALUE', aggfunc='first').reset_index()\n",
    "\n",
    "df"
   ]
  },
  {
   "cell_type": "markdown",
   "metadata": {},
   "source": [
    "## Select-Rollup\n",
    "\n",
    "* Machbase Neo 내부 사용자가 원하는 Tag Table 의 Rollup Table 호출\n",
    "* Rollup Table 원본 Tag Table 의 통계값들로 구성 \n",
    "* 파라미터\n",
    "  * table : Tag Name 리스트를 호출할 Tag Table 이름\n",
    "  * name : Tag Table 중 호출할 Tag Name\n",
    "  * start : Tag Table 에서 Raw data 를 가져올 시작 시간\n",
    "  * end : Tag Table 에서 Raw data 를 가져올 시작 시간\n",
    "  * func : Tag Table 에서 호출할 통계값 -> min, max, avg, count, sum, sumsq\n",
    "  * timeunit : Tag Table 에서 얻어올 시간 통계의 종류 선택 -> sec, min, hour"
   ]
  },
  {
   "cell_type": "code",
   "execution_count": 8,
   "metadata": {},
   "outputs": [
    {
     "data": {
      "text/html": [
       "<div>\n",
       "<style scoped>\n",
       "    .dataframe tbody tr th:only-of-type {\n",
       "        vertical-align: middle;\n",
       "    }\n",
       "\n",
       "    .dataframe tbody tr th {\n",
       "        vertical-align: top;\n",
       "    }\n",
       "\n",
       "    .dataframe thead th {\n",
       "        text-align: right;\n",
       "    }\n",
       "</style>\n",
       "<table border=\"1\" class=\"dataframe\">\n",
       "  <thead>\n",
       "    <tr style=\"text-align: right;\">\n",
       "      <th>name</th>\n",
       "      <th>mtime</th>\n",
       "      <th>TAG-dewPoint</th>\n",
       "      <th>TAG-pressure</th>\n",
       "    </tr>\n",
       "  </thead>\n",
       "  <tbody>\n",
       "    <tr>\n",
       "      <th>0</th>\n",
       "      <td>2016-01-01 14:00:00</td>\n",
       "      <td>24.383333</td>\n",
       "      <td>1016.888</td>\n",
       "    </tr>\n",
       "  </tbody>\n",
       "</table>\n",
       "</div>"
      ],
      "text/plain": [
       "name                mtime  TAG-dewPoint  TAG-pressure\n",
       "0     2016-01-01 14:00:00     24.383333      1016.888"
      ]
     },
     "execution_count": 8,
     "metadata": {},
     "output_type": "execute_result"
    }
   ],
   "source": [
    "func = 'avg'\n",
    "timeunit = 'min'\n",
    "\n",
    "# 데이터 로드 \n",
    "df = pd.read_csv(f'http://127.0.0.1:5654/db/tql/datahub/api/v1/select-rollup.tql?timeunit={timeunit}&table={table}&name={name}&func={func}&start={start}&end={end}')\n",
    "\n",
    "# 같은 시간대 별 데이터로 전환\n",
    "df = df.pivot_table(index='mtime', columns='name', values='avg(value)', aggfunc='first').reset_index()\n",
    "\n",
    "df"
   ]
  },
  {
   "cell_type": "markdown",
   "metadata": {},
   "source": [
    "## Select-Scale\n",
    "\n",
    "* Machbase Neo 내부 사용자가 원하는 Tag Table 의 Min, Max 값 호출\n",
    "* 파라미터\n",
    "  * table : Tag Name 리스트를 호출할 Tag Table 이름\n",
    "  * name : Tag Table 중 호출할 Tag Name\n",
    "  * start : Tag Table 에서 Raw data 를 가져올 시작 시간\n",
    "  * end : Tag Table 에서 Raw data 를 가져올 시작 시간"
   ]
  },
  {
   "cell_type": "code",
   "execution_count": 9,
   "metadata": {},
   "outputs": [
    {
     "name": "stdout",
     "output_type": "stream",
     "text": [
      "        0        1\n",
      "min  24.4  1016.91         0        1\n",
      "max  24.4  1016.91\n"
     ]
    }
   ],
   "source": [
    "# min max 데이터 로드\n",
    "df = pd.read_csv(f'http://127.0.0.1:5654/db/tql/datahub/api/v1/select-scale.tql?table={table}&name={name}&start={start}&end={end}')\n",
    "\n",
    "## Min , Max values 설정 \n",
    "Min = df.iloc[:,1:-1].T\n",
    "Max = df.iloc[:,2:].T\n",
    "\n",
    "print(Min, Max)"
   ]
  }
 ],
 "metadata": {
  "kernelspec": {
   "display_name": "test",
   "language": "python",
   "name": "python3"
  },
  "language_info": {
   "codemirror_mode": {
    "name": "ipython",
    "version": 3
   },
   "file_extension": ".py",
   "mimetype": "text/x-python",
   "name": "python",
   "nbconvert_exporter": "python",
   "pygments_lexer": "ipython3",
   "version": "3.8.19"
  }
 },
 "nbformat": 4,
 "nbformat_minor": 2
}
